{
 "cells": [
  {
   "cell_type": "markdown",
   "metadata": {},
   "source": [
    "# Example: Apple 2020"
   ]
  },
  {
   "cell_type": "code",
   "execution_count": 1,
   "metadata": {},
   "outputs": [],
   "source": [
    "import logging\n",
    "from openesef.util.util_mylogger import setup_logger \n",
    "logger = setup_logger(\"main\", logging.INFO, log_dir=\"/tmp/log/\")"
   ]
  },
  {
   "cell_type": "code",
   "execution_count": 2,
   "metadata": {},
   "outputs": [
    {
     "name": "stderr",
     "output_type": "stream",
     "text": [
      "2025-03-02 23:55:46,676 - main.openesf.base.pool - PID:59253 - INFO - \n",
      "\n",
      "Initializing Pool with cache_folder=None, output_folder=None\n",
      "2025-03-02 23:55:46,677 - main.openesf.base.pool - PID:59253 - INFO - Using repository cache folder: /Users/mbp16/Dropbox/sciebo/WebScraping+ESEF_Paper/Research/code_fse/openesef_repo/openesef/xbrl_schema\n",
      "2025-03-02 23:55:46,923 - main.openesf.taxonomy.linkbase - PID:59253 - ERROR - Failed to load linkbase: location=/Users/mbp16/Dropbox/sciebo/WebScraping%2BESEF_Paper/Research/code_fse/openesef_repo/examples/mem%3A/aapl-20200926_cal.xml, esef_filing_root=mem:// \n",
      "Error reading file '/Users/mbp16/Dropbox/sciebo/WebScraping%2BESEF_Paper/Research/code_fse/openesef_repo/examples/mem%3A/aapl-20200926_cal.xml': failed to load external entity \"/Users/mbp16/Dropbox/sciebo/WebScraping%2BESEF_Paper/Research/code_fse/openesef_repo/examples/mem%3A/aapl-20200926_cal.xml\"\n",
      "2025-03-02 23:55:46,923 - main.openesf.taxonomy.linkbase - PID:59253 - ERROR - Failed to load linkbase: location=/Users/mbp16/Dropbox/sciebo/WebScraping%2BESEF_Paper/Research/code_fse/openesef_repo/examples/mem%3A/aapl-20200926_def.xml, esef_filing_root=mem:// \n",
      "Error reading file '/Users/mbp16/Dropbox/sciebo/WebScraping%2BESEF_Paper/Research/code_fse/openesef_repo/examples/mem%3A/aapl-20200926_def.xml': failed to load external entity \"/Users/mbp16/Dropbox/sciebo/WebScraping%2BESEF_Paper/Research/code_fse/openesef_repo/examples/mem%3A/aapl-20200926_def.xml\"\n",
      "2025-03-02 23:55:46,924 - main.openesf.taxonomy.linkbase - PID:59253 - ERROR - Failed to load linkbase: location=/Users/mbp16/Dropbox/sciebo/WebScraping%2BESEF_Paper/Research/code_fse/openesef_repo/examples/mem%3A/aapl-20200926_lab.xml, esef_filing_root=mem:// \n",
      "Error reading file '/Users/mbp16/Dropbox/sciebo/WebScraping%2BESEF_Paper/Research/code_fse/openesef_repo/examples/mem%3A/aapl-20200926_lab.xml': failed to load external entity \"/Users/mbp16/Dropbox/sciebo/WebScraping%2BESEF_Paper/Research/code_fse/openesef_repo/examples/mem%3A/aapl-20200926_lab.xml\"\n",
      "2025-03-02 23:55:46,925 - main.openesf.taxonomy.linkbase - PID:59253 - ERROR - Failed to load linkbase: location=/Users/mbp16/Dropbox/sciebo/WebScraping%2BESEF_Paper/Research/code_fse/openesef_repo/examples/mem%3A/aapl-20200926_pre.xml, esef_filing_root=mem:// \n",
      "Error reading file '/Users/mbp16/Dropbox/sciebo/WebScraping%2BESEF_Paper/Research/code_fse/openesef_repo/examples/mem%3A/aapl-20200926_pre.xml': failed to load external entity \"/Users/mbp16/Dropbox/sciebo/WebScraping%2BESEF_Paper/Research/code_fse/openesef_repo/examples/mem%3A/aapl-20200926_pre.xml\"\n",
      "2025-03-02 23:55:47,069 - main.openesf.taxonomy.linkbase - PID:59253 - ERROR - Failed to load linkbase: location=mem://aapl-20200926_cal.xml, esef_filing_root=mem:// \n",
      "XmlFileBase: memfs is None and is_memory_fs is True\n",
      "2025-03-02 23:55:47,086 - main.openesf.taxonomy.linkbase - PID:59253 - ERROR - Failed to load linkbase: location=mem://aapl-20200926_def.xml, esef_filing_root=mem:// \n",
      "XmlFileBase: memfs is None and is_memory_fs is True\n",
      "2025-03-02 23:55:47,118 - main.openesf.taxonomy.linkbase - PID:59253 - ERROR - Failed to load linkbase: location=mem://aapl-20200926_lab.xml, esef_filing_root=mem:// \n",
      "XmlFileBase: memfs is None and is_memory_fs is True\n",
      "2025-03-02 23:55:47,144 - main.openesf.taxonomy.linkbase - PID:59253 - ERROR - Failed to load linkbase: location=mem://aapl-20200926_pre.xml, esef_filing_root=mem:// \n",
      "XmlFileBase: memfs is None and is_memory_fs is True\n"
     ]
    }
   ],
   "source": [
    "from openesef.edgar.loader import load_xbrl_filing\n",
    "xid, tax = load_xbrl_filing(ticker=\"AAPL\", year=2020)"
   ]
  },
  {
   "cell_type": "code",
   "execution_count": 3,
   "metadata": {},
   "outputs": [
    {
     "name": "stdout",
     "output_type": "stream",
     "text": [
      "Namespaces: 10\n",
      "Schema references: 1\n",
      "Linkbase references: 0\n",
      "Contexts: 318\n",
      "Units: 9\n",
      "Facts: 1388\n",
      "Footnotes: 0\n",
      "Filing Indicators: 0\n"
     ]
    }
   ],
   "source": [
    "print(xid)\n"
   ]
  },
  {
   "cell_type": "code",
   "execution_count": 4,
   "metadata": {},
   "outputs": [
    {
     "name": "stdout",
     "output_type": "stream",
     "text": [
      "Schemas: 15\n",
      "Linkbases: 15\n",
      "Role Types: 775\n",
      "Arcrole Types: 0\n",
      "Concepts: 18391\n",
      "Item Types: 52\n",
      "Tuple Types: 0\n",
      "Simple Types: 0\n",
      "Labels: 1527\n",
      "References: 0\n",
      "Hierarchies: 239\n",
      "Dimensional Relationship Sets: 239\n",
      "Dimensions: 295\n",
      "Hypercubes: 366\n",
      "Enumerations: 0\n",
      "Enumerations Sets: 0\n",
      "Table Groups: 0\n",
      "Tables: 0\n",
      "Parameters: 0\n",
      "Assertion Sets: 0\n",
      "Value Assertions: 0\n",
      "Existence Assertions: 0\n",
      "Consistency Assertions: 0\n"
     ]
    }
   ],
   "source": [
    "print(tax)"
   ]
  },
  {
   "cell_type": "code",
   "execution_count": 5,
   "metadata": {},
   "outputs": [
    {
     "name": "stdout",
     "output_type": "stream",
     "text": [
      "0: AmendmentFlag: false\n",
      "1: DocumentFiscalYearFocus: 2020\n",
      "2: DocumentFiscalPeriodFocus: FY\n",
      "3: EntityCentralIndexKey: 0000320193\n",
      "4: CurrentFiscalYearEndDate: --09-26\n",
      "5: DocumentType: 10-K\n",
      "6: DocumentAnnualReport: true\n",
      "7: DocumentPeriodEndDate: 2020-09-26\n",
      "8: DocumentTransitionReport: false\n",
      "9: EntityFileNumber: 001-36743\n",
      "10: EntityRegistrantName: Apple Inc.\n",
      "11: EntityIncorporationStateCountryCode: CA\n",
      "12: EntityTaxIdentificationNumber: 94-2404110\n",
      "13: EntityAddressAddressLine1: One Apple Park Way\n",
      "14: EntityAddressCityOrTown: Cupertino\n",
      "15: EntityAddressStateOrProvince: CA\n",
      "16: EntityAddressPostalZipCode: 95014\n",
      "17: CityAreaCode: 408\n",
      "18: LocalPhoneNumber: 996-1010\n",
      "19: TradingSymbol: AAPL\n",
      "20: EntityWellKnownSeasonedIssuer: Yes\n",
      "21: EntityVoluntaryFilers: No\n",
      "22: EntityCurrentReportingStatus: Yes\n",
      "23: EntityInteractiveDataCurrent: Yes\n",
      "24: EntityFilerCategory: Large Accelerated Filer\n",
      "25: EntitySmallBusiness: false\n",
      "26: EntityEmergingGrowthCompany: false\n",
      "27: IcfrAuditorAttestationFlag: true\n",
      "28: EntityShellCompany: false\n",
      "29: EntityPublicFloat: 1070633000000\n",
      "30: EntityCommonStockSharesOutstanding: 17001802000\n"
     ]
    }
   ],
   "source": [
    "for i, (key, value) in enumerate(xid.dei.items()):\n",
    "    print(f\"{i}: {key}: {value}\")\n"
   ]
  }
 ],
 "metadata": {
  "kernelspec": {
   "display_name": "base",
   "language": "python",
   "name": "python3"
  },
  "language_info": {
   "codemirror_mode": {
    "name": "ipython",
    "version": 3
   },
   "file_extension": ".py",
   "mimetype": "text/x-python",
   "name": "python",
   "nbconvert_exporter": "python",
   "pygments_lexer": "ipython3",
   "version": "3.11.8"
  }
 },
 "nbformat": 4,
 "nbformat_minor": 2
}
