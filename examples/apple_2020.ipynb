{
 "cells": [
  {
   "cell_type": "markdown",
   "metadata": {},
   "source": [
    "# Example: Apple 2020"
   ]
  },
  {
   "cell_type": "code",
   "execution_count": 1,
   "metadata": {},
   "outputs": [],
   "source": [
    "## Loading packages\n",
    "\n",
    "from openesef.base.pool import Pool, const\n",
    "from openesef.engines import tax_reporter\n",
    "from openesef.taxonomy.taxonomy import Taxonomy\n",
    "#from openesef.base.fbase import XmlFileBase\n",
    "from openesef.edgar.edgar import EG_LOCAL\n",
    "from openesef.edgar.stock import Stock\n",
    "from openesef.edgar.filing import Filing\n",
    "from openesef.util.parse_concepts import *\n",
    "#from openesef.taxonomy.linkbase import Linkbase\n",
    "from openesef.instance.instance import Instance\n",
    "import re\n",
    "from lxml import etree as lxml_etree\n",
    "from io import StringIO, BytesIO\n",
    "import traceback\n",
    "import fs\n",
    "import logging \n",
    "\n",
    "\n"
   ]
  },
  {
   "cell_type": "code",
   "execution_count": 2,
   "metadata": {},
   "outputs": [],
   "source": [
    "#set logging\n",
    "from openesef.util.util_mylogger import setup_logger #util_mylogger\n",
    "\n",
    "\n",
    "if __name__==\"__main__\":\n",
    "    logger = setup_logger(\"main\", logging.INFO, log_dir=\"/tmp/log/\")\n",
    "else:\n",
    "    logger = logging.getLogger(\"main.openesf.try\") "
   ]
  },
  {
   "cell_type": "code",
   "execution_count": 3,
   "metadata": {},
   "outputs": [],
   "source": [
    "egl = EG_LOCAL('/text/edgar')\n",
    "# Create an in-memory filesystem\n",
    "\n"
   ]
  },
  {
   "cell_type": "code",
   "execution_count": 4,
   "metadata": {},
   "outputs": [],
   "source": [
    "stock = Stock('AAPL', egl = egl); #self = stock\n",
    "filing = stock.get_filing(period='annual', year=2020) #self = filing\n",
    "#filing = Filing(url=\"Archives/edgar/data/1318605/0001564590-20-004475.txt\", egl = egl)"
   ]
  },
  {
   "cell_type": "code",
   "execution_count": 5,
   "metadata": {},
   "outputs": [
    {
     "name": "stderr",
     "output_type": "stream",
     "text": [
      "2025-03-02 23:03:07,619 - main - PID:55450 - INFO - sch, EX-101.SCH, aapl-20200926.xsd\n",
      "2025-03-02 23:03:07,620 - main - PID:55450 - INFO - Successfully cached aapl-20200926.xsd to memory, length=64224\n",
      "2025-03-02 23:03:07,621 - main - PID:55450 - INFO - cal, EX-101.CAL, aapl-20200926_cal.xml\n",
      "2025-03-02 23:03:07,622 - main - PID:55450 - INFO - Successfully cached aapl-20200926_cal.xml to memory, length=158906\n",
      "2025-03-02 23:03:07,622 - main - PID:55450 - INFO - def, EX-101.DEF, aapl-20200926_def.xml\n",
      "2025-03-02 23:03:07,623 - main - PID:55450 - INFO - Successfully cached aapl-20200926_def.xml to memory, length=347474\n",
      "2025-03-02 23:03:07,623 - main - PID:55450 - INFO - lab, EX-101.LAB, aapl-20200926_lab.xml\n",
      "2025-03-02 23:03:07,624 - main - PID:55450 - INFO - Successfully cached aapl-20200926_lab.xml to memory, length=897633\n",
      "2025-03-02 23:03:07,624 - main - PID:55450 - INFO - pre, EX-101.PRE, aapl-20200926_pre.xml\n",
      "2025-03-02 23:03:07,624 - main - PID:55450 - INFO - Successfully cached aapl-20200926_pre.xml to memory, length=572461\n",
      "2025-03-02 23:03:07,625 - main - PID:55450 - INFO - xml, XML, aapl-20200926_htm.xml\n",
      "2025-03-02 23:03:07,626 - main - PID:55450 - INFO - Successfully cached aapl-20200926_htm.xml to memory, length=2394913\n"
     ]
    },
    {
     "name": "stdout",
     "output_type": "stream",
     "text": [
      "<?xml version=\"1.0\" encoding=\"UTF-8\"?><!--XBRL Document Created with Wdesk from Workiva--><!--Copyri\n",
      "<?xml version=\"1.0\" encoding=\"UTF-8\"?><!--XBRL Document Created with Wdesk from Workiva--><!--Copyri\n",
      "<?xml version=\"1.0\" encoding=\"UTF-8\"?><!--XBRL Document Created with Wdesk from Workiva--><!--Copyri\n",
      "<?xml version=\"1.0\" encoding=\"UTF-8\"?><!--XBRL Document Created with Wdesk from Workiva--><!--Copyri\n",
      "<?xml version=\"1.0\" encoding=\"UTF-8\"?><!--XBRL Document Created with Wdesk from Workiva--><!--Copyri\n",
      "<?xml version=\"1.0\" encoding=\"utf-8\"?><xbrl  xml:lang=\"en-US\"  xmlns=\"http://www.xbrl.org/2003/insta\n"
     ]
    }
   ],
   "source": [
    "entry_points = []\n",
    "memfs = fs.open_fs('mem://')\n",
    "for key, filename in filing.xbrl_files.items():\n",
    "    logger.info(f\"{key}, {filing.documents[filename].type}, {filename}\")\n",
    "    content = filing.documents[filename].doc_text.data #.get(\"<XML>\", \"\")\n",
    "    content = list(content.values())[0] if type(content) == dict else content\n",
    "    print(content[:100])\n",
    "    with  memfs.open(filename, 'w') as f:\n",
    "        f.write(content)\n",
    "    logger.info(f\"Successfully cached {filename} to memory, length={len(content)}\")\n",
    "    entry_points.append(f\"mem://{filename}\")"
   ]
  },
  {
   "cell_type": "code",
   "execution_count": 6,
   "metadata": {},
   "outputs": [
    {
     "name": "stderr",
     "output_type": "stream",
     "text": [
      "2025-03-02 23:03:07,631 - main.openesf.base.pool - PID:55450 - INFO - \n",
      "\n",
      "Initializing Pool with cache_folder=None, output_folder=None\n",
      "2025-03-02 23:03:07,632 - main.openesf.base.pool - PID:55450 - INFO - Using repository cache folder: /Users/mbp16/Dropbox/sciebo/WebScraping+ESEF_Paper/Research/code_fse/openesef/openesef/xbrl_schema\n",
      "2025-03-02 23:03:07,882 - main.openesf.taxonomy.linkbase - PID:55450 - ERROR - Failed to load linkbase: location=/Users/mbp16/Dropbox/sciebo/WebScraping%2BESEF_Paper/Research/code_fse/openesef/examples/mem%3A/aapl-20200926_cal.xml, esef_filing_root=mem:// \n",
      "Error reading file '/Users/mbp16/Dropbox/sciebo/WebScraping%2BESEF_Paper/Research/code_fse/openesef/examples/mem%3A/aapl-20200926_cal.xml': failed to load external entity \"/Users/mbp16/Dropbox/sciebo/WebScraping%2BESEF_Paper/Research/code_fse/openesef/examples/mem%3A/aapl-20200926_cal.xml\"\n",
      "2025-03-02 23:03:07,883 - main.openesf.taxonomy.linkbase - PID:55450 - ERROR - Failed to load linkbase: location=/Users/mbp16/Dropbox/sciebo/WebScraping%2BESEF_Paper/Research/code_fse/openesef/examples/mem%3A/aapl-20200926_def.xml, esef_filing_root=mem:// \n",
      "Error reading file '/Users/mbp16/Dropbox/sciebo/WebScraping%2BESEF_Paper/Research/code_fse/openesef/examples/mem%3A/aapl-20200926_def.xml': failed to load external entity \"/Users/mbp16/Dropbox/sciebo/WebScraping%2BESEF_Paper/Research/code_fse/openesef/examples/mem%3A/aapl-20200926_def.xml\"\n",
      "2025-03-02 23:03:07,884 - main.openesf.taxonomy.linkbase - PID:55450 - ERROR - Failed to load linkbase: location=/Users/mbp16/Dropbox/sciebo/WebScraping%2BESEF_Paper/Research/code_fse/openesef/examples/mem%3A/aapl-20200926_lab.xml, esef_filing_root=mem:// \n",
      "Error reading file '/Users/mbp16/Dropbox/sciebo/WebScraping%2BESEF_Paper/Research/code_fse/openesef/examples/mem%3A/aapl-20200926_lab.xml': failed to load external entity \"/Users/mbp16/Dropbox/sciebo/WebScraping%2BESEF_Paper/Research/code_fse/openesef/examples/mem%3A/aapl-20200926_lab.xml\"\n",
      "2025-03-02 23:03:07,884 - main.openesf.taxonomy.linkbase - PID:55450 - ERROR - Failed to load linkbase: location=/Users/mbp16/Dropbox/sciebo/WebScraping%2BESEF_Paper/Research/code_fse/openesef/examples/mem%3A/aapl-20200926_pre.xml, esef_filing_root=mem:// \n",
      "Error reading file '/Users/mbp16/Dropbox/sciebo/WebScraping%2BESEF_Paper/Research/code_fse/openesef/examples/mem%3A/aapl-20200926_pre.xml': failed to load external entity \"/Users/mbp16/Dropbox/sciebo/WebScraping%2BESEF_Paper/Research/code_fse/openesef/examples/mem%3A/aapl-20200926_pre.xml\"\n",
      "2025-03-02 23:03:08,035 - main.openesf.taxonomy.linkbase - PID:55450 - ERROR - Failed to load linkbase: location=mem://aapl-20200926_cal.xml, esef_filing_root=mem:// \n",
      "XmlFileBase: memfs is None and is_memory_fs is True\n",
      "2025-03-02 23:03:08,051 - main.openesf.taxonomy.linkbase - PID:55450 - ERROR - Failed to load linkbase: location=mem://aapl-20200926_def.xml, esef_filing_root=mem:// \n",
      "XmlFileBase: memfs is None and is_memory_fs is True\n",
      "2025-03-02 23:03:08,079 - main.openesf.taxonomy.linkbase - PID:55450 - ERROR - Failed to load linkbase: location=mem://aapl-20200926_lab.xml, esef_filing_root=mem:// \n",
      "XmlFileBase: memfs is None and is_memory_fs is True\n",
      "2025-03-02 23:03:08,103 - main.openesf.taxonomy.linkbase - PID:55450 - ERROR - Failed to load linkbase: location=mem://aapl-20200926_pre.xml, esef_filing_root=mem:// \n",
      "XmlFileBase: memfs is None and is_memory_fs is True\n"
     ]
    },
    {
     "name": "stdout",
     "output_type": "stream",
     "text": [
      "Schemas: 15\n",
      "Linkbases: 15\n",
      "Role Types: 775\n",
      "Arcrole Types: 0\n",
      "Concepts: 18391\n",
      "Item Types: 52\n",
      "Tuple Types: 0\n",
      "Simple Types: 0\n",
      "Labels: 1527\n",
      "References: 0\n",
      "Hierarchies: 239\n",
      "Dimensional Relationship Sets: 239\n",
      "Dimensions: 295\n",
      "Hypercubes: 366\n",
      "Enumerations: 0\n",
      "Enumerations Sets: 0\n",
      "Table Groups: 0\n",
      "Tables: 0\n",
      "Parameters: 0\n",
      "Assertion Sets: 0\n",
      "Value Assertions: 0\n",
      "Existence Assertions: 0\n",
      "Consistency Assertions: 0\n"
     ]
    }
   ],
   "source": [
    "data_pool = Pool(max_error=2, esef_filing_root=\"mem://\", memfs=memfs); #self = data_pool\n",
    "\n",
    "this_tax = Taxonomy(entry_points=entry_points,\n",
    "                           container_pool = data_pool, \n",
    "                           esef_filing_root=\"mem://\",\n",
    "                           memfs=memfs)  #\n",
    "\n",
    "data_pool.current_taxonomy = this_tax\n",
    "\n",
    "print(this_tax)"
   ]
  },
  {
   "cell_type": "code",
   "execution_count": 7,
   "metadata": {},
   "outputs": [
    {
     "name": "stdout",
     "output_type": "stream",
     "text": [
      "Namespaces: 10\n",
      "Schema references: 1\n",
      "Linkbase references: 0\n",
      "Contexts: 318\n",
      "Units: 9\n",
      "Facts: 1388\n",
      "Footnotes: 0\n",
      "Filing Indicators: 0\n"
     ]
    }
   ],
   "source": [
    "if filing.xbrl_files.get(\"xml\"):\n",
    "    xml_filename = filing.xbrl_files.get(\"xml\")\n",
    "    instance_str = filing.documents[xml_filename].doc_text.data #.get(\"<XML>\", \"\")\n",
    "    instance_str = list(instance_str.values())[0] if type(instance_str) == dict else instance_str\n",
    "    #instance_str = clean_doc(instance_str)\n",
    "    instance_byte = instance_str.encode('utf-8')\n",
    "    instance_io = BytesIO(instance_byte)\n",
    "    instance_tree = lxml_etree.parse(instance_io)\n",
    "    root = instance_tree.getroot()\n",
    "    data_pool.cache_from_string(location=xml_filename, content=instance_str, memfs=memfs)\n",
    "    xid = Instance(container_pool=data_pool, root=root, memfs=memfs)\n",
    "\n",
    "print(xid)"
   ]
  },
  {
   "cell_type": "code",
   "execution_count": 8,
   "metadata": {},
   "outputs": [
    {
     "name": "stdout",
     "output_type": "stream",
     "text": [
      "0: AmendmentFlag: false\n",
      "1: DocumentFiscalYearFocus: 2020\n",
      "2: DocumentFiscalPeriodFocus: FY\n",
      "3: EntityCentralIndexKey: 0000320193\n",
      "4: CurrentFiscalYearEndDate: --09-26\n",
      "5: DocumentType: 10-K\n",
      "6: DocumentAnnualReport: true\n",
      "7: DocumentPeriodEndDate: 2020-09-26\n",
      "8: DocumentTransitionReport: false\n",
      "9: EntityFileNumber: 001-36743\n",
      "10: EntityRegistrantName: Apple Inc.\n",
      "11: EntityIncorporationStateCountryCode: CA\n",
      "12: EntityTaxIdentificationNumber: 94-2404110\n",
      "13: EntityAddressAddressLine1: One Apple Park Way\n",
      "14: EntityAddressCityOrTown: Cupertino\n",
      "15: EntityAddressStateOrProvince: CA\n",
      "16: EntityAddressPostalZipCode: 95014\n",
      "17: CityAreaCode: 408\n",
      "18: LocalPhoneNumber: 996-1010\n",
      "19: TradingSymbol: AAPL\n",
      "20: EntityWellKnownSeasonedIssuer: Yes\n",
      "21: EntityVoluntaryFilers: No\n",
      "22: EntityCurrentReportingStatus: Yes\n",
      "23: EntityInteractiveDataCurrent: Yes\n",
      "24: EntityFilerCategory: Large Accelerated Filer\n",
      "25: EntitySmallBusiness: false\n",
      "26: EntityEmergingGrowthCompany: false\n",
      "27: IcfrAuditorAttestationFlag: true\n",
      "28: EntityShellCompany: false\n",
      "29: EntityPublicFloat: 1070633000000\n",
      "30: EntityCommonStockSharesOutstanding: 17001802000\n"
     ]
    }
   ],
   "source": [
    "for i, (key, value) in enumerate(xid.dei.items()):\n",
    "    print(f\"{i}: {key}: {value}\")\n"
   ]
  },
  {
   "cell_type": "code",
   "execution_count": 9,
   "metadata": {},
   "outputs": [
    {
     "name": "stdout",
     "output_type": "stream",
     "text": [
      "                                                                   context_id  \\\n",
      "CurrentInstanceDateContext        i747bec89b4e84f74ae3445db3509f609_I20200926   \n",
      "CurrentPeriodContext        i223bd574caab4f739f73936be6065c72_D20190929-20...   \n",
      "PriorInstanceDateContext          ic3ea678a3e394e00880d68882e8bdc02_I20200327   \n",
      "PriorPeriodContext          i5085fb79a9a14a9aae9b909beb32bce2_D20180930-20...   \n",
      "\n",
      "                                    period_string     instant  start_date  \\\n",
      "CurrentInstanceDateContext             2020-09-26  2020-09-26         NaN   \n",
      "CurrentPeriodContext        2019-09-29/2020-09-26         NaN  2019-09-29   \n",
      "PriorInstanceDateContext               2020-03-27  2020-03-27         NaN   \n",
      "PriorPeriodContext          2018-09-30/2019-09-28         NaN  2018-09-30   \n",
      "\n",
      "                              end_date  \n",
      "CurrentInstanceDateContext         NaN  \n",
      "CurrentPeriodContext        2020-09-26  \n",
      "PriorInstanceDateContext           NaN  \n",
      "PriorPeriodContext          2019-09-28  \n"
     ]
    }
   ],
   "source": [
    "reporting_contexts = xid.identify_reporting_contexts()\n",
    "df_contexts = pd.DataFrame.from_dict(reporting_contexts, orient=\"index\")\n",
    "print(df_contexts)\n"
   ]
  }
 ],
 "metadata": {
  "kernelspec": {
   "display_name": "base",
   "language": "python",
   "name": "python3"
  },
  "language_info": {
   "codemirror_mode": {
    "name": "ipython",
    "version": 3
   },
   "file_extension": ".py",
   "mimetype": "text/x-python",
   "name": "python",
   "nbconvert_exporter": "python",
   "pygments_lexer": "ipython3",
   "version": "3.11.8"
  }
 },
 "nbformat": 4,
 "nbformat_minor": 2
}
